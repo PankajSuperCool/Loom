{
 "cells": [
  {
   "cell_type": "markdown",
   "metadata": {
    "id": "Q0pJd7T3zzpO"
   },
   "source": [
    "# Importing Data"
   ]
  },
  {
   "cell_type": "code",
   "execution_count": null,
   "metadata": {
    "colab": {
     "base_uri": "https://localhost:8080/"
    },
    "executionInfo": {
     "elapsed": 19942,
     "status": "ok",
     "timestamp": 1631282588586,
     "user": {
      "displayName": "Biswabal Gurung",
      "photoUrl": "https://lh3.googleusercontent.com/a-/AOh14GhpGWKHA7Ok-aX_8td2VyDkMFeJccqJOk8U-b_SPw=s64",
      "userId": "09857462963908599229"
     },
     "user_tz": -600
    },
    "id": "s863Py4cw9yg",
    "outputId": "0224f017-c0ff-482d-c59a-3088e4c6d3cd"
   },
   "outputs": [
    {
     "name": "stdout",
     "output_type": "stream",
     "text": [
      "Mounted at /content/drive\n"
     ]
    }
   ],
   "source": [
    "from google.colab import drive\n",
    "drive.mount('/content/drive')"
   ]
  },
  {
   "cell_type": "code",
   "execution_count": null,
   "metadata": {
    "id": "WSsvEBiVxX3Y"
   },
   "outputs": [],
   "source": [
    "import pandas as pd"
   ]
  },
  {
   "cell_type": "code",
   "execution_count": null,
   "metadata": {
    "id": "RzV5BcjOxcJi"
   },
   "outputs": [],
   "source": [
    "full_dataset = pd.read_csv('/content/drive/My Drive/Loom Analytics NLP 2/dataset/combined_data.csv')"
   ]
  },
  {
   "cell_type": "code",
   "execution_count": null,
   "metadata": {
    "colab": {
     "base_uri": "https://localhost:8080/",
     "height": 204
    },
    "executionInfo": {
     "elapsed": 42,
     "status": "ok",
     "timestamp": 1631083205430,
     "user": {
      "displayName": "Biswabal Gurung",
      "photoUrl": "https://lh3.googleusercontent.com/a-/AOh14GhpGWKHA7Ok-aX_8td2VyDkMFeJccqJOk8U-b_SPw=s64",
      "userId": "09857462963908599229"
     },
     "user_tz": -600
    },
    "id": "4hNcb6bNx3dO",
    "outputId": "d3e61a1e-20dc-491e-df7f-5e9af39e7f9e"
   },
   "outputs": [
    {
     "data": {
      "text/html": [
       "<div>\n",
       "<style scoped>\n",
       "    .dataframe tbody tr th:only-of-type {\n",
       "        vertical-align: middle;\n",
       "    }\n",
       "\n",
       "    .dataframe tbody tr th {\n",
       "        vertical-align: top;\n",
       "    }\n",
       "\n",
       "    .dataframe thead th {\n",
       "        text-align: right;\n",
       "    }\n",
       "</style>\n",
       "<table border=\"1\" class=\"dataframe\">\n",
       "  <thead>\n",
       "    <tr style=\"text-align: right;\">\n",
       "      <th></th>\n",
       "      <th>text</th>\n",
       "      <th>label</th>\n",
       "    </tr>\n",
       "  </thead>\n",
       "  <tbody>\n",
       "    <tr>\n",
       "      <th>0</th>\n",
       "      <td>Citation: Springfield Capital Inc. v Grande Pr...</td>\n",
       "      <td>party</td>\n",
       "    </tr>\n",
       "    <tr>\n",
       "      <th>1</th>\n",
       "      <td>Appearances: K.D. Wakefield, Q.C. for the Appl...</td>\n",
       "      <td>council</td>\n",
       "    </tr>\n",
       "    <tr>\n",
       "      <th>2</th>\n",
       "      <td>The Honourable Mr. Justice Frans Slatter</td>\n",
       "      <td>judge</td>\n",
       "    </tr>\n",
       "    <tr>\n",
       "      <th>3</th>\n",
       "      <td>Conclusion [22] In conclusion, the applicant h...</td>\n",
       "      <td>outcome</td>\n",
       "    </tr>\n",
       "    <tr>\n",
       "      <th>4</th>\n",
       "      <td>In the Court of Appeal of Albert</td>\n",
       "      <td>court</td>\n",
       "    </tr>\n",
       "  </tbody>\n",
       "</table>\n",
       "</div>"
      ],
      "text/plain": [
       "                                                text    label\n",
       "0  Citation: Springfield Capital Inc. v Grande Pr...    party\n",
       "1  Appearances: K.D. Wakefield, Q.C. for the Appl...  council\n",
       "2           The Honourable Mr. Justice Frans Slatter    judge\n",
       "3  Conclusion [22] In conclusion, the applicant h...  outcome\n",
       "4                   In the Court of Appeal of Albert    court"
      ]
     },
     "execution_count": 4,
     "metadata": {},
     "output_type": "execute_result"
    }
   ],
   "source": [
    "full_dataset.head()"
   ]
  },
  {
   "cell_type": "markdown",
   "metadata": {
    "id": "UhaKHUIwzch1"
   },
   "source": [
    "# Data Cleaning"
   ]
  },
  {
   "cell_type": "code",
   "execution_count": null,
   "metadata": {
    "colab": {
     "base_uri": "https://localhost:8080/"
    },
    "executionInfo": {
     "elapsed": 41,
     "status": "ok",
     "timestamp": 1631083205432,
     "user": {
      "displayName": "Biswabal Gurung",
      "photoUrl": "https://lh3.googleusercontent.com/a-/AOh14GhpGWKHA7Ok-aX_8td2VyDkMFeJccqJOk8U-b_SPw=s64",
      "userId": "09857462963908599229"
     },
     "user_tz": -600
    },
    "id": "NM1H3LCax7Je",
    "outputId": "190d54bd-b95e-4873-c423-03825f27f6dc"
   },
   "outputs": [
    {
     "data": {
      "text/plain": [
       "judge         257\n",
       "outcome       241\n",
       "facts         210\n",
       "council       193\n",
       "party         165\n",
       "court         152\n",
       "counsel        89\n",
       "casename       44\n",
       "Judge          26\n",
       "Outcome        21\n",
       "Counsel        20\n",
       "fact           16\n",
       "Court          10\n",
       "Casename       10\n",
       "Facts           6\n",
       "Council         2\n",
       "conclusion      1\n",
       "outcome         1\n",
       "Name: label, dtype: int64"
      ]
     },
     "execution_count": 5,
     "metadata": {},
     "output_type": "execute_result"
    }
   ],
   "source": [
    "full_dataset['label'].value_counts()"
   ]
  },
  {
   "cell_type": "code",
   "execution_count": null,
   "metadata": {
    "id": "oJYJDwRdyB6f"
   },
   "outputs": [],
   "source": [
    "full_dataset['label'] = full_dataset['label'].str.strip()\n",
    "full_dataset['label'].replace('Judge', 'judge', inplace = True)\n",
    "full_dataset['label'].replace('Outcome', 'outcome', inplace = True)\n",
    "full_dataset['label'].replace('Council', 'counsel', inplace = True)\n",
    "full_dataset['label'].replace('council', 'counsel', inplace = True)\n",
    "full_dataset['label'].replace('party', 'casename', inplace = True)\n",
    "full_dataset['label'].replace('Conclusion', 'outcome', inplace = True)\n",
    "full_dataset['label'].replace('Party', 'casename', inplace = True)\n",
    "full_dataset['label'].replace('Facts', 'fact', inplace = True)\n",
    "full_dataset['label'].replace('fact', 'facts', inplace = True)\n",
    "full_dataset['label'].replace('conclusion', 'outcome', inplace = True)\n",
    "full_dataset['label'].replace('Counsel', 'counsel', inplace = True)\n",
    "full_dataset['label'].replace('Court', 'court', inplace = True)\n",
    "full_dataset['label'].replace('conclusion', 'outcome', inplace = True)\n",
    "full_dataset['label'].replace('Casename', 'casename', inplace = True)"
   ]
  },
  {
   "cell_type": "code",
   "execution_count": null,
   "metadata": {
    "colab": {
     "base_uri": "https://localhost:8080/"
    },
    "executionInfo": {
     "elapsed": 40,
     "status": "ok",
     "timestamp": 1631083205435,
     "user": {
      "displayName": "Biswabal Gurung",
      "photoUrl": "https://lh3.googleusercontent.com/a-/AOh14GhpGWKHA7Ok-aX_8td2VyDkMFeJccqJOk8U-b_SPw=s64",
      "userId": "09857462963908599229"
     },
     "user_tz": -600
    },
    "id": "mfG11XDVyhdD",
    "outputId": "0f5765ca-e627-4037-8132-78502ce393e6"
   },
   "outputs": [
    {
     "data": {
      "text/plain": [
       "counsel     304\n",
       "judge       283\n",
       "outcome     264\n",
       "facts       232\n",
       "casename    219\n",
       "court       162\n",
       "Name: label, dtype: int64"
      ]
     },
     "execution_count": 7,
     "metadata": {},
     "output_type": "execute_result"
    }
   ],
   "source": [
    "full_dataset['label'].value_counts()"
   ]
  },
  {
   "cell_type": "code",
   "execution_count": null,
   "metadata": {
    "colab": {
     "base_uri": "https://localhost:8080/"
    },
    "executionInfo": {
     "elapsed": 38,
     "status": "ok",
     "timestamp": 1631083205437,
     "user": {
      "displayName": "Biswabal Gurung",
      "photoUrl": "https://lh3.googleusercontent.com/a-/AOh14GhpGWKHA7Ok-aX_8td2VyDkMFeJccqJOk8U-b_SPw=s64",
      "userId": "09857462963908599229"
     },
     "user_tz": -600
    },
    "id": "hHLy48ZIzIp-",
    "outputId": "7c3d90b5-bad6-476f-f111-dd8646e3ef9e"
   },
   "outputs": [
    {
     "data": {
      "text/plain": [
       "(1464, 2)"
      ]
     },
     "execution_count": 8,
     "metadata": {},
     "output_type": "execute_result"
    }
   ],
   "source": [
    "full_dataset.shape"
   ]
  },
  {
   "cell_type": "code",
   "execution_count": null,
   "metadata": {
    "id": "7NbKZBBzzN4l"
   },
   "outputs": [],
   "source": [
    "full_dataset['text'] = full_dataset['text'].replace('\\\\n','', regex=True)"
   ]
  },
  {
   "cell_type": "code",
   "execution_count": null,
   "metadata": {
    "colab": {
     "base_uri": "https://localhost:8080/",
     "height": 204
    },
    "executionInfo": {
     "elapsed": 35,
     "status": "ok",
     "timestamp": 1631083205439,
     "user": {
      "displayName": "Biswabal Gurung",
      "photoUrl": "https://lh3.googleusercontent.com/a-/AOh14GhpGWKHA7Ok-aX_8td2VyDkMFeJccqJOk8U-b_SPw=s64",
      "userId": "09857462963908599229"
     },
     "user_tz": -600
    },
    "id": "AcdNOm4N0d9M",
    "outputId": "2f4dfbae-200d-4a20-896f-4e739e8af31f"
   },
   "outputs": [
    {
     "data": {
      "text/html": [
       "<div>\n",
       "<style scoped>\n",
       "    .dataframe tbody tr th:only-of-type {\n",
       "        vertical-align: middle;\n",
       "    }\n",
       "\n",
       "    .dataframe tbody tr th {\n",
       "        vertical-align: top;\n",
       "    }\n",
       "\n",
       "    .dataframe thead th {\n",
       "        text-align: right;\n",
       "    }\n",
       "</style>\n",
       "<table border=\"1\" class=\"dataframe\">\n",
       "  <thead>\n",
       "    <tr style=\"text-align: right;\">\n",
       "      <th></th>\n",
       "      <th>text</th>\n",
       "      <th>label</th>\n",
       "    </tr>\n",
       "  </thead>\n",
       "  <tbody>\n",
       "    <tr>\n",
       "      <th>0</th>\n",
       "      <td>Citation: Springfield Capital Inc. v Grande Pr...</td>\n",
       "      <td>casename</td>\n",
       "    </tr>\n",
       "    <tr>\n",
       "      <th>1</th>\n",
       "      <td>Appearances: K.D. Wakefield, Q.C. for the Appl...</td>\n",
       "      <td>counsel</td>\n",
       "    </tr>\n",
       "    <tr>\n",
       "      <th>2</th>\n",
       "      <td>The Honourable Mr. Justice Frans Slatter</td>\n",
       "      <td>judge</td>\n",
       "    </tr>\n",
       "    <tr>\n",
       "      <th>3</th>\n",
       "      <td>Conclusion [22] In conclusion, the applicant h...</td>\n",
       "      <td>outcome</td>\n",
       "    </tr>\n",
       "    <tr>\n",
       "      <th>4</th>\n",
       "      <td>In the Court of Appeal of Albert</td>\n",
       "      <td>court</td>\n",
       "    </tr>\n",
       "  </tbody>\n",
       "</table>\n",
       "</div>"
      ],
      "text/plain": [
       "                                                text     label\n",
       "0  Citation: Springfield Capital Inc. v Grande Pr...  casename\n",
       "1  Appearances: K.D. Wakefield, Q.C. for the Appl...   counsel\n",
       "2           The Honourable Mr. Justice Frans Slatter     judge\n",
       "3  Conclusion [22] In conclusion, the applicant h...   outcome\n",
       "4                   In the Court of Appeal of Albert     court"
      ]
     },
     "execution_count": 10,
     "metadata": {},
     "output_type": "execute_result"
    }
   ],
   "source": [
    "full_dataset.head()"
   ]
  },
  {
   "cell_type": "markdown",
   "metadata": {
    "id": "WMXFLTUpz70J"
   },
   "source": [
    "# Dividing Dataset into train and test"
   ]
  },
  {
   "cell_type": "code",
   "execution_count": null,
   "metadata": {
    "id": "drBAMF0QzUso"
   },
   "outputs": [],
   "source": [
    "from numpy.random import RandomState\n",
    "rand = RandomState()\n",
    "\n",
    "train_valid = full_dataset.sample(frac=0.9, random_state=rand)\n",
    "\n",
    "train = train_valid.sample(frac=0.77, random_state=rand)\n",
    "valid = train_valid.loc[~train_valid.index.isin(train.index)]\n",
    "\n",
    "test = full_dataset.loc[~full_dataset.index.isin(train_valid.index)]"
   ]
  },
  {
   "cell_type": "code",
   "execution_count": null,
   "metadata": {
    "id": "W1U8IXnIBUuX"
   },
   "outputs": [],
   "source": [
    "train = pd.read_csv(\"/content/drive/My Drive/Loom Analytics NLP 2/dataset/train.csv\")\n",
    "valid = pd.read_csv(\"/content/drive/My Drive/Loom Analytics NLP 2/dataset/validate.csv\")\n",
    "test = pd.read_csv(\"/content/drive/My Drive/Loom Analytics NLP 2/dataset/test.csv\")\n"
   ]
  },
  {
   "cell_type": "code",
   "execution_count": null,
   "metadata": {
    "id": "nvnNxJoZEQBP"
   },
   "outputs": [],
   "source": [
    "train['text'] = train['text'].replace('\\\\n','', regex=True)\n",
    "valid['text'] = valid['text'].replace('\\\\n','', regex=True)\n",
    "test['text'] = test['text'].replace('\\\\n','', regex=True)"
   ]
  },
  {
   "cell_type": "code",
   "execution_count": null,
   "metadata": {
    "id": "Wx_wLM3cFJdn"
   },
   "outputs": [],
   "source": [
    "train.dropna(subset = ['text'], inplace=True)\n",
    "valid.dropna(subset = ['text'], inplace=True)\n",
    "test.dropna(subset = ['text'], inplace=True)"
   ]
  },
  {
   "cell_type": "code",
   "execution_count": null,
   "metadata": {
    "colab": {
     "base_uri": "https://localhost:8080/"
    },
    "executionInfo": {
     "elapsed": 328,
     "status": "ok",
     "timestamp": 1631283652924,
     "user": {
      "displayName": "Biswabal Gurung",
      "photoUrl": "https://lh3.googleusercontent.com/a-/AOh14GhpGWKHA7Ok-aX_8td2VyDkMFeJccqJOk8U-b_SPw=s64",
      "userId": "09857462963908599229"
     },
     "user_tz": -600
    },
    "id": "Uz7CgfN_u63i",
    "outputId": "3e0d23e8-2f57-4264-d0eb-ea0de73a9bd1"
   },
   "outputs": [
    {
     "name": "stdout",
     "output_type": "stream",
     "text": [
      "(1364, 2)\n",
      "(454, 2)\n",
      "(455, 2)\n"
     ]
    }
   ],
   "source": [
    "print(train.shape)\n",
    "print(valid.shape)\n",
    "print(test.shape)"
   ]
  },
  {
   "cell_type": "code",
   "execution_count": null,
   "metadata": {
    "id": "QJRN104z0KNM"
   },
   "outputs": [],
   "source": [
    "train.to_csv('/content/drive/My Drive/Loom Analytics NLP 2/dataset/train.csv', index = False)\n",
    "valid.to_csv('/content/drive/My Drive/Loom Analytics NLP 2/dataset/valid.csv', index = False)\n",
    "test.to_csv('/content/drive/My Drive/Loom Analytics NLP 2/dataset/test.csv', index = False)"
   ]
  },
  {
   "cell_type": "markdown",
   "metadata": {
    "id": "M-Z-UwveVQOV"
   },
   "source": [
    "# Generating Train and Test for BERT"
   ]
  },
  {
   "cell_type": "code",
   "execution_count": null,
   "metadata": {
    "id": "zgGN1Br9W9Of"
   },
   "outputs": [],
   "source": [
    "train_bert = train.copy()\n",
    "valid_bert = valid.copy()\n",
    "test_bert = test.copy()"
   ]
  },
  {
   "cell_type": "code",
   "execution_count": null,
   "metadata": {
    "colab": {
     "base_uri": "https://localhost:8080/"
    },
    "executionInfo": {
     "elapsed": 321,
     "status": "ok",
     "timestamp": 1631283463187,
     "user": {
      "displayName": "Biswabal Gurung",
      "photoUrl": "https://lh3.googleusercontent.com/a-/AOh14GhpGWKHA7Ok-aX_8td2VyDkMFeJccqJOk8U-b_SPw=s64",
      "userId": "09857462963908599229"
     },
     "user_tz": -600
    },
    "id": "wYLYlXovBubc",
    "outputId": "4aa73b6c-3c83-4dfa-b3ee-41250d16d3b7"
   },
   "outputs": [
    {
     "data": {
      "text/plain": [
       "counsel     282\n",
       "facts       243\n",
       "outcome     241\n",
       "judge       230\n",
       "dec_name    198\n",
       "court       170\n",
       "Name: label, dtype: int64"
      ]
     },
     "execution_count": 23,
     "metadata": {},
     "output_type": "execute_result"
    }
   ],
   "source": [
    "train['label'].value_counts()"
   ]
  },
  {
   "cell_type": "code",
   "execution_count": null,
   "metadata": {
    "id": "JxBW6aB5VWOL"
   },
   "outputs": [],
   "source": [
    "train_bert['label'] = train_bert['label'].replace(['dec_name', 'counsel', 'court', 'facts', 'judge', 'outcome'], [0,1,2,3,4,5])\n",
    "valid_bert['label'] = valid_bert['label'].replace(['dec_name', 'counsel', 'court', 'facts', 'judge', 'outcome'], [0,1,2,3,4,5])\n",
    "test_bert['label'] = test_bert['label'].replace(['dec_name', 'counsel', 'court', 'facts', 'judge', 'outcome'], [0,1,2,3,4,5])"
   ]
  },
  {
   "cell_type": "code",
   "execution_count": null,
   "metadata": {
    "colab": {
     "base_uri": "https://localhost:8080/"
    },
    "executionInfo": {
     "elapsed": 6,
     "status": "ok",
     "timestamp": 1631283678620,
     "user": {
      "displayName": "Biswabal Gurung",
      "photoUrl": "https://lh3.googleusercontent.com/a-/AOh14GhpGWKHA7Ok-aX_8td2VyDkMFeJccqJOk8U-b_SPw=s64",
      "userId": "09857462963908599229"
     },
     "user_tz": -600
    },
    "id": "HOagUFwIWOgk",
    "outputId": "eb244eec-6ae0-4726-abfc-dbae2e7c7cde"
   },
   "outputs": [
    {
     "name": "stdout",
     "output_type": "stream",
     "text": [
      "(1364, 2)\n",
      "(454, 2)\n",
      "(455, 2)\n"
     ]
    }
   ],
   "source": [
    "print(train_bert.shape)\n",
    "print(valid_bert.shape)\n",
    "print(test_bert.shape)"
   ]
  },
  {
   "cell_type": "code",
   "execution_count": null,
   "metadata": {
    "id": "L1I7YgPSYh0I"
   },
   "outputs": [],
   "source": [
    "train_bert.to_csv('/content/drive/My Drive/Loom Analytics NLP 2/dataset/train_bert.csv', index = False)\n",
    "valid_bert.to_csv('/content/drive/My Drive/Loom Analytics NLP 2/dataset/validate_bert.csv', index = False)\n",
    "test_bert.to_csv('/content/drive/My Drive/Loom Analytics NLP 2/dataset/test_bert.csv', index = False)"
   ]
  }
 ],
 "metadata": {
  "colab": {
   "collapsed_sections": [],
   "name": "Data Preparation.ipynb",
   "provenance": []
  },
  "kernelspec": {
   "display_name": "Python 3",
   "language": "python",
   "name": "python3"
  },
  "language_info": {
   "codemirror_mode": {
    "name": "ipython",
    "version": 3
   },
   "file_extension": ".py",
   "mimetype": "text/x-python",
   "name": "python",
   "nbconvert_exporter": "python",
   "pygments_lexer": "ipython3",
   "version": "3.8.5"
  }
 },
 "nbformat": 4,
 "nbformat_minor": 1
}
